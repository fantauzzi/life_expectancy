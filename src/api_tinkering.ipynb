{
 "cells": [
  {
   "cell_type": "code",
   "execution_count": 1,
   "id": "9d5e32f0-221c-469a-92ce-1b61f12e345d",
   "metadata": {},
   "outputs": [],
   "source": [
    "import requests"
   ]
  },
  {
   "cell_type": "code",
   "execution_count": 2,
   "id": "2611306c-c28c-455f-8407-6f766b51ad0b",
   "metadata": {},
   "outputs": [],
   "source": [
    "r = requests.get('https://ghoapi.azureedge.net/api/Dimension')\n",
    "\n"
   ]
  },
  {
   "cell_type": "code",
   "execution_count": 7,
   "id": "3c9a97a6-b29a-46be-bd0f-835d321ac592",
   "metadata": {},
   "outputs": [
    {
     "data": {
      "text/plain": [
       "'{\"@odata.context\":\"https://ghoapi.azureedge.net/api/$metadata#DIMENSION\",\"value\":[{\"Code\":\"ADVERTISINGTYPE\",\"Title\":\"SUBSTANCE_ABUSE_ADVERTISING_TYPES\"},{\"Code\":\"AGEGROUP\",\"Title\":\"Age Group\"},{\"Code\":\"ALCOHOLTYPE\",\"Title\":\"Beverage Types\"},{\"Code\":\"AMRGLASSCATEGORY\",\"Title\":\"AMR GLASS Category\"},{\"Code\":\"ARCHIVE\",\"Title\":\"Archive date\"},{\"Code\":\"ASSISTIVETECHBARRIER\",\"Title\":\"Barriers to accessing assistive products\"},{\"Code\":\"ASSISTIVETECHFUNDING\",\"Title\":\"Funding for assistive tech products\"},{\"Code\":\"ASSISTIVETECHPRODUCT\",\"Title\":\"Assistive technology product\"},{\"Code\":\"ASSISTIVETECHSATIACTIVITY\",\"Title\":\"Satisfaction with assistive products for different environments and activities\"},{\"Code\":\"ASSISTIVETECHSATISERVICE\",\"Title\":\"Satisfaction with assistive products and related services\"},{\"Code\":\"ASSISTIVETECHSOURCE\",\"Title\":\"Sources of assistive products\"},{\"Code\":\"ASSISTIVETECHSUBQUESTION\",\"Title\":\"Assistive technology subquestion\"},{\"Code\":\"ASSISTIVETECHTRAVELDISTANCE\",\"Title\":\"Travel distance to obtain assistive products\"},{\"Code\":\"AWARENESSACTIVITYTYPE\",\"Title\":\"SUBSTANCE_ABUSE_AWARENESS_ACTIVITY_TYPES\"},{\"Code\":\"BACGROUP\",\"Title\":\"SUBSTANCE_ABUSE_BAC_GROUPS\"},{\"Code\":\"BEVERAGETYPE\",\"Title\":\"SUBSTANCE_ABUSE_BEVERAGE_TYPES\"},{\"Code\":\"CAREPATIENT\",\"Title\":\"Patient type\"},{\"Code\":\"CARESECTOR\",\"Title\":\"Care sector\"},{\"Code\":\"CHILDCAUSE\",\"Title\":\"Cause of death\"},{\"Code\":\"COMMUNITYACTIONTYPE\",\"Title\":\"Community Action\"},{\"Code\":\"CONSUMPTIONTYPE\",\"Title\":\"Consumption type\"},{\"Code\":\"COORDINATINGENTITIES\",\"Title\":\"SUBSTANCE_ABUSE_COORDINATING_ENTITIES\"},{\"Code\":\"COUNTRY\",\"Title\":\"Country\"},{\"Code\":\"DATASOURCE\",\"Title\":\"Data Source\"},{\"Code\":\"DHSMICSGEOREGION\",\"Title\":\"DHS/MICS subnational regions (Health equity monitor)\"},{\"Code\":\"DRIVERTYPE\",\"Title\":\"Driver Type\"},{\"Code\":\"DRUG\",\"Title\":\"RSUD_DRUGS\"},{\"Code\":\"DRUGPRESCRIPTION\",\"Title\":\"RSUD_DRUG_PRESCRIPTION\"},{\"Code\":\"DRUGSUPERVISION\",\"Title\":\"RSUD_DRUG_SUPERVISION\"},{\"Code\":\"EDUCATIONLEVEL\",\"Title\":\"Education Level\"},{\"Code\":\"EMFBODYPART\",\"Title\":\"Body part\"},{\"Code\":\"EMFEXPOSED\",\"Title\":\"Exposed\"},{\"Code\":\"EMFFREQUENCY\",\"Title\":\"Frequency\"},{\"Code\":\"EMFRADIOBAND\",\"Title\":\"Radio band\"},{\"Code\":\"ENVCAUSE\",\"Title\":\"Cause\"},{\"Code\":\"GBDREGION\",\"Title\":\"GBD Region\"},{\"Code\":\"GHECAUSES\",\"Title\":\"Causes\"},{\"Code\":\"GHO\",\"Title\":\"Indicator\"},{\"Code\":\"GOEQUESTION\",\"Title\":\"Goe question\"},{\"Code\":\"GOVERNMENTBENEFIT\",\"Title\":\"RSUD_GOVERNMENT_BENEFITS\"},{\"Code\":\"GROUP\",\"Title\":\"RSUD_GROUPS\"},{\"Code\":\"HARMANDCONSEQUENCE\",\"Title\":\"SUBSTANCE_ABUSE_HARM_AND_CONSEQUENCES\"},{\"Code\":\"HOUSEHOLDCOOKINGFUEL\",\"Title\":\"Cooking fuel\"},{\"Code\":\"IHRSPARCAPACITYLEVEL\",\"Title\":\"IHR SPAR Capacity Level\"},{\"Code\":\"INADEQUACY\",\"Title\":\"Inadequacy\"},{\"Code\":\"KE_CORE\",\"Title\":\"Kenya Core Indicators\"},{\"Code\":\"KE_COUNTY\",\"Title\":\"County\"},{\"Code\":\"LEGISLATIONTYPE\",\"Title\":\"Legislation type\"},{\"Code\":\"MEASUREIMPORTANCETYPE\",\"Title\":\"SUBSTANCE_ABUSE_MEASURE_IMPORTANCE_TYPE\"},{\"Code\":\"MGHEREG\",\"Title\":\"Region\"},{\"Code\":\"MOTOCYCLEOCCUPANTTYPE\",\"Title\":\"Motorcycle Occupant Type\"},{\"Code\":\"NATIONALSYSTEMTYPE\",\"Title\":\"National System Type\"},{\"Code\":\"NGO\",\"Title\":\"RSUD_NGOS\"},{\"Code\":\"OPENACCESSSERVICE\",\"Title\":\"RSUD_OPEN_ACCESS_SERVICES\"},{\"Code\":\"PENALTYTYPE\",\"Title\":\"Penalty Type\"},{\"Code\":\"POLICYADOPTIONLEVEL\",\"Title\":\"SUBSTANCE_ABUSE_POLICY_ADOPTION_LEVELS\"},{\"Code\":\"POLICYFRAMEWORK\",\"Title\":\"SUBSTANCE_ABUSE_POLICY_FRAMEWORKS\"},{\"Code\":\"PRICEMEASURETYPE\",\"Title\":\"Price measure types\"},{\"Code\":\"PROGRAMME\",\"Title\":\"RSUD_PROGRAMMES\"},{\"Code\":\"PUBLICPLACE\",\"Title\":\"SUBSTANCE_ABUSE_PUBLIC_PLACES\"},{\"Code\":\"PUBLICPRIVATESETTING\",\"Title\":\"RSUD_PUBLIC_PRIVATE_SETTINGS\"},{\"Code\":\"PUBLISHSTATE\",\"Title\":\"PUBLISH STATES\"},{\"Code\":\"RADONSUBQUESTIONS\",\"Title\":\"Radon subquestions\"},{\"Code\":\"REGION\",\"Title\":\"WHO region\"},{\"Code\":\"RESIDENCEAREATYPE\",\"Title\":\"Residence Area Type\"},{\"Code\":\"ROADUSERTYPE\",\"Title\":\"Road User Type\"},{\"Code\":\"RSUD_HIVHEP_CT\",\"Title\":\"HIV / Hepatitis counselling and treatment\"},{\"Code\":\"RSUDHWF\",\"Title\":\"Human resources / health workforce\"},{\"Code\":\"RSUDMAINSUBSTANCEATTREATMENT\",\"Title\":\"RSUD Main substance at treatment\"},{\"Code\":\"RSUDMAINTENANCEACCESSRESTRICTIONS\",\"Title\":\"Maintenance access restrictions\"},{\"Code\":\"RSUDMONITORING\",\"Title\":\"Monitoring system\"},{\"Code\":\"RSUDPHARMACOTHERAPYOPTION\",\"Title\":\"Pharmacotherapy options\"},{\"Code\":\"RSUDPREVENTIONPROGRAMME\",\"Title\":\"Prevention programmes\"},{\"Code\":\"RSUDREP\",\"Title\":\"Representatives\"},{\"Code\":\"RSUDREPORTING\",\"Title\":\"Sources of reporting\"},{\"Code\":\"RSUDSPECIFICPOPULATION\",\"Title\":\"Specific populations\"},{\"Code\":\"RSUDSUBSTANCEDEPENDENCE\",\"Title\":\"Substance dependence\"},{\"Code\":\"RSUDTREATMENT\",\"Title\":\"Treatment\"},{\"Code\":\"RSUDTREATMENTLOCATION\",\"Title\":\"Treatment location\"},{\"Code\":\"SEATTYPE\",\"Title\":\"Seat Type\"},{\"Code\":\"SEVERITY\",\"Title\":\"Severity\"},{\"Code\":\"SEX\",\"Title\":\"Sex\"},{\"Code\":\"SOCIALCOSTTYPE\",\"Title\":\"SUBSTANCE_ABUSE_SOCIAL_COST_TYPES\"},{\"Code\":\"SPONSORSHIPORIGINATOR\",\"Title\":\"Sponsorship originator\"},{\"Code\":\"STANDARDOFCARE\",\"Title\":\"RSUD_STANDARDS_OF_CARE\"},{\"Code\":\"SUBSTANCETYPE\",\"Title\":\"RSUD_SUBSTANCE_TYPES\"},{\"Code\":\"SUBSTANCETYPEDISORDER\",\"Title\":\"RSUD_SUBSTANCE_TYPE_DISORDERS\"},{\"Code\":\"SUNBED_ACCESS\",\"Title\":\"Sunbed access restrictions\"},{\"Code\":\"SUNBED_CONTROL\",\"Title\":\"Restriction and inspection of sunbed facilities\"},{\"Code\":\"SUNBED_INFO\",\"Title\":\"Sunbed public information requirements\"},{\"Code\":\"SUNBED_SAFETY\",\"Title\":\"Sunbed facility safety requirements\"},{\"Code\":\"SUNBED_TRAINING\",\"Title\":\"Sunbed facility staff training requirements\"},{\"Code\":\"TIMEPERIOD\",\"Title\":\"Time period\"},{\"Code\":\"UNREGION\",\"Title\":\"UN Region\"},{\"Code\":\"UNSDGREGION\",\"Title\":\"UN SDG Region\"},{\"Code\":\"VEHICLESTANDARD\",\"Title\":\"Vehicle standards\"},{\"Code\":\"WEALTHDECILE\",\"Title\":\"Wealth decile\"},{\"Code\":\"WEALTHQUINTILE\",\"Title\":\"Wealth Quintile\"},{\"Code\":\"WHOINCOMEREGION\",\"Title\":\"WHO Income Region\"},{\"Code\":\"WORLDBANKINCOMEGROUP\",\"Title\":\"World Bank income group\"},{\"Code\":\"WORLDBANKREGION\",\"Title\":\"World Bank Region\"},{\"Code\":\"YEAR\",\"Title\":\"Year\"}]}'"
      ]
     },
     "execution_count": 7,
     "metadata": {},
     "output_type": "execute_result"
    }
   ],
   "source": [
    "r.text"
   ]
  },
  {
   "cell_type": "code",
   "execution_count": 8,
   "id": "e23973c6-8c6d-4996-96cd-47436bb6cf52",
   "metadata": {},
   "outputs": [
    {
     "data": {
      "text/plain": [
       "'utf-8'"
      ]
     },
     "execution_count": 8,
     "metadata": {},
     "output_type": "execute_result"
    }
   ],
   "source": [
    "r.encoding"
   ]
  },
  {
   "cell_type": "code",
   "execution_count": 10,
   "id": "42ff5952-faed-46b0-88a4-0e7ee6f90bcc",
   "metadata": {},
   "outputs": [
    {
     "data": {
      "text/plain": [
       "{'@odata.context': 'https://ghoapi.azureedge.net/api/$metadata#DIMENSION',\n",
       " 'value': [{'Code': 'ADVERTISINGTYPE',\n",
       "   'Title': 'SUBSTANCE_ABUSE_ADVERTISING_TYPES'},\n",
       "  {'Code': 'AGEGROUP', 'Title': 'Age Group'},\n",
       "  {'Code': 'ALCOHOLTYPE', 'Title': 'Beverage Types'},\n",
       "  {'Code': 'AMRGLASSCATEGORY', 'Title': 'AMR GLASS Category'},\n",
       "  {'Code': 'ARCHIVE', 'Title': 'Archive date'},\n",
       "  {'Code': 'ASSISTIVETECHBARRIER',\n",
       "   'Title': 'Barriers to accessing assistive products'},\n",
       "  {'Code': 'ASSISTIVETECHFUNDING',\n",
       "   'Title': 'Funding for assistive tech products'},\n",
       "  {'Code': 'ASSISTIVETECHPRODUCT', 'Title': 'Assistive technology product'},\n",
       "  {'Code': 'ASSISTIVETECHSATIACTIVITY',\n",
       "   'Title': 'Satisfaction with assistive products for different environments and activities'},\n",
       "  {'Code': 'ASSISTIVETECHSATISERVICE',\n",
       "   'Title': 'Satisfaction with assistive products and related services'},\n",
       "  {'Code': 'ASSISTIVETECHSOURCE', 'Title': 'Sources of assistive products'},\n",
       "  {'Code': 'ASSISTIVETECHSUBQUESTION',\n",
       "   'Title': 'Assistive technology subquestion'},\n",
       "  {'Code': 'ASSISTIVETECHTRAVELDISTANCE',\n",
       "   'Title': 'Travel distance to obtain assistive products'},\n",
       "  {'Code': 'AWARENESSACTIVITYTYPE',\n",
       "   'Title': 'SUBSTANCE_ABUSE_AWARENESS_ACTIVITY_TYPES'},\n",
       "  {'Code': 'BACGROUP', 'Title': 'SUBSTANCE_ABUSE_BAC_GROUPS'},\n",
       "  {'Code': 'BEVERAGETYPE', 'Title': 'SUBSTANCE_ABUSE_BEVERAGE_TYPES'},\n",
       "  {'Code': 'CAREPATIENT', 'Title': 'Patient type'},\n",
       "  {'Code': 'CARESECTOR', 'Title': 'Care sector'},\n",
       "  {'Code': 'CHILDCAUSE', 'Title': 'Cause of death'},\n",
       "  {'Code': 'COMMUNITYACTIONTYPE', 'Title': 'Community Action'},\n",
       "  {'Code': 'CONSUMPTIONTYPE', 'Title': 'Consumption type'},\n",
       "  {'Code': 'COORDINATINGENTITIES',\n",
       "   'Title': 'SUBSTANCE_ABUSE_COORDINATING_ENTITIES'},\n",
       "  {'Code': 'COUNTRY', 'Title': 'Country'},\n",
       "  {'Code': 'DATASOURCE', 'Title': 'Data Source'},\n",
       "  {'Code': 'DHSMICSGEOREGION',\n",
       "   'Title': 'DHS/MICS subnational regions (Health equity monitor)'},\n",
       "  {'Code': 'DRIVERTYPE', 'Title': 'Driver Type'},\n",
       "  {'Code': 'DRUG', 'Title': 'RSUD_DRUGS'},\n",
       "  {'Code': 'DRUGPRESCRIPTION', 'Title': 'RSUD_DRUG_PRESCRIPTION'},\n",
       "  {'Code': 'DRUGSUPERVISION', 'Title': 'RSUD_DRUG_SUPERVISION'},\n",
       "  {'Code': 'EDUCATIONLEVEL', 'Title': 'Education Level'},\n",
       "  {'Code': 'EMFBODYPART', 'Title': 'Body part'},\n",
       "  {'Code': 'EMFEXPOSED', 'Title': 'Exposed'},\n",
       "  {'Code': 'EMFFREQUENCY', 'Title': 'Frequency'},\n",
       "  {'Code': 'EMFRADIOBAND', 'Title': 'Radio band'},\n",
       "  {'Code': 'ENVCAUSE', 'Title': 'Cause'},\n",
       "  {'Code': 'GBDREGION', 'Title': 'GBD Region'},\n",
       "  {'Code': 'GHECAUSES', 'Title': 'Causes'},\n",
       "  {'Code': 'GHO', 'Title': 'Indicator'},\n",
       "  {'Code': 'GOEQUESTION', 'Title': 'Goe question'},\n",
       "  {'Code': 'GOVERNMENTBENEFIT', 'Title': 'RSUD_GOVERNMENT_BENEFITS'},\n",
       "  {'Code': 'GROUP', 'Title': 'RSUD_GROUPS'},\n",
       "  {'Code': 'HARMANDCONSEQUENCE',\n",
       "   'Title': 'SUBSTANCE_ABUSE_HARM_AND_CONSEQUENCES'},\n",
       "  {'Code': 'HOUSEHOLDCOOKINGFUEL', 'Title': 'Cooking fuel'},\n",
       "  {'Code': 'IHRSPARCAPACITYLEVEL', 'Title': 'IHR SPAR Capacity Level'},\n",
       "  {'Code': 'INADEQUACY', 'Title': 'Inadequacy'},\n",
       "  {'Code': 'KE_CORE', 'Title': 'Kenya Core Indicators'},\n",
       "  {'Code': 'KE_COUNTY', 'Title': 'County'},\n",
       "  {'Code': 'LEGISLATIONTYPE', 'Title': 'Legislation type'},\n",
       "  {'Code': 'MEASUREIMPORTANCETYPE',\n",
       "   'Title': 'SUBSTANCE_ABUSE_MEASURE_IMPORTANCE_TYPE'},\n",
       "  {'Code': 'MGHEREG', 'Title': 'Region'},\n",
       "  {'Code': 'MOTOCYCLEOCCUPANTTYPE', 'Title': 'Motorcycle Occupant Type'},\n",
       "  {'Code': 'NATIONALSYSTEMTYPE', 'Title': 'National System Type'},\n",
       "  {'Code': 'NGO', 'Title': 'RSUD_NGOS'},\n",
       "  {'Code': 'OPENACCESSSERVICE', 'Title': 'RSUD_OPEN_ACCESS_SERVICES'},\n",
       "  {'Code': 'PENALTYTYPE', 'Title': 'Penalty Type'},\n",
       "  {'Code': 'POLICYADOPTIONLEVEL',\n",
       "   'Title': 'SUBSTANCE_ABUSE_POLICY_ADOPTION_LEVELS'},\n",
       "  {'Code': 'POLICYFRAMEWORK', 'Title': 'SUBSTANCE_ABUSE_POLICY_FRAMEWORKS'},\n",
       "  {'Code': 'PRICEMEASURETYPE', 'Title': 'Price measure types'},\n",
       "  {'Code': 'PROGRAMME', 'Title': 'RSUD_PROGRAMMES'},\n",
       "  {'Code': 'PUBLICPLACE', 'Title': 'SUBSTANCE_ABUSE_PUBLIC_PLACES'},\n",
       "  {'Code': 'PUBLICPRIVATESETTING', 'Title': 'RSUD_PUBLIC_PRIVATE_SETTINGS'},\n",
       "  {'Code': 'PUBLISHSTATE', 'Title': 'PUBLISH STATES'},\n",
       "  {'Code': 'RADONSUBQUESTIONS', 'Title': 'Radon subquestions'},\n",
       "  {'Code': 'REGION', 'Title': 'WHO region'},\n",
       "  {'Code': 'RESIDENCEAREATYPE', 'Title': 'Residence Area Type'},\n",
       "  {'Code': 'ROADUSERTYPE', 'Title': 'Road User Type'},\n",
       "  {'Code': 'RSUD_HIVHEP_CT',\n",
       "   'Title': 'HIV / Hepatitis counselling and treatment'},\n",
       "  {'Code': 'RSUDHWF', 'Title': 'Human resources / health workforce'},\n",
       "  {'Code': 'RSUDMAINSUBSTANCEATTREATMENT',\n",
       "   'Title': 'RSUD Main substance at treatment'},\n",
       "  {'Code': 'RSUDMAINTENANCEACCESSRESTRICTIONS',\n",
       "   'Title': 'Maintenance access restrictions'},\n",
       "  {'Code': 'RSUDMONITORING', 'Title': 'Monitoring system'},\n",
       "  {'Code': 'RSUDPHARMACOTHERAPYOPTION', 'Title': 'Pharmacotherapy options'},\n",
       "  {'Code': 'RSUDPREVENTIONPROGRAMME', 'Title': 'Prevention programmes'},\n",
       "  {'Code': 'RSUDREP', 'Title': 'Representatives'},\n",
       "  {'Code': 'RSUDREPORTING', 'Title': 'Sources of reporting'},\n",
       "  {'Code': 'RSUDSPECIFICPOPULATION', 'Title': 'Specific populations'},\n",
       "  {'Code': 'RSUDSUBSTANCEDEPENDENCE', 'Title': 'Substance dependence'},\n",
       "  {'Code': 'RSUDTREATMENT', 'Title': 'Treatment'},\n",
       "  {'Code': 'RSUDTREATMENTLOCATION', 'Title': 'Treatment location'},\n",
       "  {'Code': 'SEATTYPE', 'Title': 'Seat Type'},\n",
       "  {'Code': 'SEVERITY', 'Title': 'Severity'},\n",
       "  {'Code': 'SEX', 'Title': 'Sex'},\n",
       "  {'Code': 'SOCIALCOSTTYPE', 'Title': 'SUBSTANCE_ABUSE_SOCIAL_COST_TYPES'},\n",
       "  {'Code': 'SPONSORSHIPORIGINATOR', 'Title': 'Sponsorship originator'},\n",
       "  {'Code': 'STANDARDOFCARE', 'Title': 'RSUD_STANDARDS_OF_CARE'},\n",
       "  {'Code': 'SUBSTANCETYPE', 'Title': 'RSUD_SUBSTANCE_TYPES'},\n",
       "  {'Code': 'SUBSTANCETYPEDISORDER', 'Title': 'RSUD_SUBSTANCE_TYPE_DISORDERS'},\n",
       "  {'Code': 'SUNBED_ACCESS', 'Title': 'Sunbed access restrictions'},\n",
       "  {'Code': 'SUNBED_CONTROL',\n",
       "   'Title': 'Restriction and inspection of sunbed facilities'},\n",
       "  {'Code': 'SUNBED_INFO', 'Title': 'Sunbed public information requirements'},\n",
       "  {'Code': 'SUNBED_SAFETY', 'Title': 'Sunbed facility safety requirements'},\n",
       "  {'Code': 'SUNBED_TRAINING',\n",
       "   'Title': 'Sunbed facility staff training requirements'},\n",
       "  {'Code': 'TIMEPERIOD', 'Title': 'Time period'},\n",
       "  {'Code': 'UNREGION', 'Title': 'UN Region'},\n",
       "  {'Code': 'UNSDGREGION', 'Title': 'UN SDG Region'},\n",
       "  {'Code': 'VEHICLESTANDARD', 'Title': 'Vehicle standards'},\n",
       "  {'Code': 'WEALTHDECILE', 'Title': 'Wealth decile'},\n",
       "  {'Code': 'WEALTHQUINTILE', 'Title': 'Wealth Quintile'},\n",
       "  {'Code': 'WHOINCOMEREGION', 'Title': 'WHO Income Region'},\n",
       "  {'Code': 'WORLDBANKINCOMEGROUP', 'Title': 'World Bank income group'},\n",
       "  {'Code': 'WORLDBANKREGION', 'Title': 'World Bank Region'},\n",
       "  {'Code': 'YEAR', 'Title': 'Year'}]}"
      ]
     },
     "execution_count": 10,
     "metadata": {},
     "output_type": "execute_result"
    }
   ],
   "source": [
    "r.json()"
   ]
  },
  {
   "cell_type": "code",
   "execution_count": 11,
   "id": "5d978dd4-194d-44b0-916e-57e2b112ef75",
   "metadata": {},
   "outputs": [
    {
     "data": {
      "text/plain": [
       "200"
      ]
     },
     "execution_count": 11,
     "metadata": {},
     "output_type": "execute_result"
    }
   ],
   "source": [
    "r.status_code"
   ]
  },
  {
   "cell_type": "code",
   "execution_count": null,
   "id": "2503143d-6188-44a6-b9bc-2c3a14d9ba24",
   "metadata": {},
   "outputs": [],
   "source": []
  }
 ],
 "metadata": {
  "kernelspec": {
   "display_name": "Python 3 (ipykernel)",
   "language": "python",
   "name": "python3"
  },
  "language_info": {
   "codemirror_mode": {
    "name": "ipython",
    "version": 3
   },
   "file_extension": ".py",
   "mimetype": "text/x-python",
   "name": "python",
   "nbconvert_exporter": "python",
   "pygments_lexer": "ipython3",
   "version": "3.10.6"
  }
 },
 "nbformat": 4,
 "nbformat_minor": 5
}
